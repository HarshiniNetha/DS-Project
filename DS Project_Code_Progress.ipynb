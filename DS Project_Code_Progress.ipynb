{
 "cells": [
  {
   "cell_type": "code",
   "execution_count": 20,
   "id": "9ee88316",
   "metadata": {},
   "outputs": [
    {
     "ename": "ModuleNotFoundError",
     "evalue": "No module named 'plotly'",
     "output_type": "error",
     "traceback": [
      "\u001b[1;31m---------------------------------------------------------------------------\u001b[0m",
      "\u001b[1;31mModuleNotFoundError\u001b[0m                       Traceback (most recent call last)",
      "\u001b[1;32m~\\AppData\\Local\\Temp/ipykernel_23080/1300617381.py\u001b[0m in \u001b[0;36m<module>\u001b[1;34m\u001b[0m\n\u001b[0;32m      7\u001b[0m \u001b[1;32mimport\u001b[0m \u001b[0mseaborn\u001b[0m \u001b[1;32mas\u001b[0m \u001b[0mcksb\u001b[0m\u001b[1;33m\u001b[0m\u001b[1;33m\u001b[0m\u001b[0m\n\u001b[0;32m      8\u001b[0m \u001b[1;32mfrom\u001b[0m \u001b[0mIPython\u001b[0m\u001b[1;33m.\u001b[0m\u001b[0mdisplay\u001b[0m \u001b[1;32mimport\u001b[0m \u001b[0mdisplay\u001b[0m\u001b[1;33m,\u001b[0m \u001b[0mHTML\u001b[0m\u001b[1;33m\u001b[0m\u001b[1;33m\u001b[0m\u001b[0m\n\u001b[1;32m----> 9\u001b[1;33m \u001b[1;32mfrom\u001b[0m \u001b[0mplotly\u001b[0m \u001b[1;32mimport\u001b[0m \u001b[0mexpress\u001b[0m\u001b[1;33m\u001b[0m\u001b[1;33m\u001b[0m\u001b[0m\n\u001b[0m\u001b[0;32m     10\u001b[0m \u001b[1;32mfrom\u001b[0m \u001b[0msklearn\u001b[0m \u001b[1;32mimport\u001b[0m \u001b[0mpreprocessing\u001b[0m\u001b[1;33m,\u001b[0m \u001b[0mdecomposition\u001b[0m\u001b[1;33m,\u001b[0m \u001b[0mfeature_selection\u001b[0m\u001b[1;33m\u001b[0m\u001b[1;33m\u001b[0m\u001b[0m\n\u001b[0;32m     11\u001b[0m \u001b[1;32mfrom\u001b[0m \u001b[0msklearn\u001b[0m \u001b[1;32mimport\u001b[0m \u001b[0mtree\u001b[0m\u001b[1;33m,\u001b[0m \u001b[0mlinear_model\u001b[0m\u001b[1;33m\u001b[0m\u001b[1;33m\u001b[0m\u001b[0m\n",
      "\u001b[1;31mModuleNotFoundError\u001b[0m: No module named 'plotly'"
     ]
    }
   ],
   "source": [
    "import warnings\n",
    "warnings.filterwarnings(\"ignore\")\n",
    "import numpy as np \n",
    "import pandas as pd\n",
    "import os\n",
    "from matplotlib import pyplot as ckvs\n",
    "import seaborn as cksb\n",
    "from IPython.display import display, HTML\n",
    "from plotly import express\n",
    "from sklearn import preprocessing, decomposition, feature_selection\n",
    "from sklearn import tree, linear_model\n",
    "from sklearn import neural_network\n",
    "from sklearn import ensemble\n",
    "from sklearn import preprocessing\n",
    "from sklearn import pipeline\n",
    "import sklearn\n",
    "\n",
    "from sklearn import utils  \n",
    "from sklearn import model_selection  \n",
    "from sklearn import metrics  \n",
    "from ucimlrepo import fetch_ucirepo "
   ]
  },
  {
   "cell_type": "code",
   "execution_count": null,
   "id": "77fa3d84",
   "metadata": {},
   "outputs": [],
   "source": [
    "def DataRead():\n",
    "    dr=os.getcwd()\n",
    "    if \"CKD_Data.csv\" not in os.listdir():\n",
    "        data = fetch_ucirepo(id=336) \n",
    "        dtck=pandas.concat([data.data.features,data.data.targets],axis=1)\n",
    "        dtck.to_csv(\"CKD_Data.csv\")\n",
    "        print(\"------------------------\")\n",
    "        print(\"     Records: {}\\n     Features: {}\".format(dtck.shape[0],dtck.shape[1]))\n",
    "        print(\"------------------------\")\n",
    "        return dtck\n",
    "    else:\n",
    "        dtck=pandas.read_csv(\"CKD_Data.csv\")\n",
    "        if 'Unnamed: 0' in dtck.columns:\n",
    "            dtck=dtck.drop('Unnamed: 0',axis=1)\n",
    "        print(\"------------------------\")\n",
    "        print(\"     Records: {}\\n     Features: {}\".format(dtck.shape[0],dtck.shape[1]))\n",
    "        print(\"------------------------\")\n",
    "        return dtck\n",
    "KDS=DataRead()\n",
    "KDS.head()"
   ]
  },
  {
   "cell_type": "code",
   "execution_count": null,
   "id": "21ec8f42",
   "metadata": {
    "scrolled": false
   },
   "outputs": [],
   "source": [
    "def InfoData(dtck):\n",
    "    resval1=len(dtck)\n",
    "    print(\"\\nData Information\\n\")\n",
    "    print(dtck.info(),\"\\n\")\n",
    "    print(\"\\nData Statistics\\n\")\n",
    "    display(HTML(dtck.describe().to_html()))\n",
    "    return dtck\n",
    "KDS=InfoData(KDS)"
   ]
  },
  {
   "cell_type": "code",
   "execution_count": null,
   "id": "b3f38af9",
   "metadata": {
    "scrolled": false
   },
   "outputs": [],
   "source": [
    "def DataCleaning(dtck):\n",
    "    data_length_init=len(dtck)\n",
    "    if sum(dtck.isna().sum())>0:\n",
    "        print(\"\\nMissing Values Found!!\\n\")\n",
    "        print(dtck.isna().sum())\n",
    "        print(\"\\nCleaning.....\\n\")\n",
    "        dtck=dtck.dropna()\n",
    "        data_length_after=len(dtck)\n",
    "        dtck=utils.resample(dtck,replace = True, n_samples = int(len(dtck)*(data_length_init/data_length_after)), random_state = 10)\n",
    "        print(\"\\nMissing Values Status after cleaning\\n\")\n",
    "        print(dtck.isna().sum())\n",
    "        print(dtck.info())\n",
    "        dtck=dtck.reset_index(drop=True)\n",
    "    return dtck\n",
    "KDS=DataCleaning(KDS)\n",
    "KDS.head()"
   ]
  },
  {
   "cell_type": "code",
   "execution_count": null,
   "id": "92050080",
   "metadata": {},
   "outputs": [],
   "source": [
    "def RectifyFet(dtck):\n",
    "    dtck['class']=dtck['class'].replace(\"ckd\\t\",\"ckd\")\n",
    "    return dtck\n",
    "KDS=RectifyFet(KDS)\n",
    "print(KDS['class'].value_counts())\n",
    "KDS.head()"
   ]
  },
  {
   "cell_type": "code",
   "execution_count": null,
   "id": "4a283340",
   "metadata": {
    "scrolled": false
   },
   "outputs": [],
   "source": [
    "def CatGraph(dtck,ft,nm):\n",
    "    pandas.crosstab(dtck[ft],dtck['class']).plot(kind='barh',figsize=(4,2), color=['m','g'],title=\"Kidney Disease by {}\".format(nm))\n",
    "cat_fets=[\"rbc\",\"pc\",\"pcc\",\"ane\",\"ba\",\"appet\"]\n",
    "names=[\"Red blood cells\", \"Pus cell\", \"Clumps of Pus cell\", \"Anaemia Possibility\",\"Bacteria Infection\", \"Level Of Appetite\"]\n",
    "for cf in range(len(cat_fets)):\n",
    "    CatGraph(KDS,cat_fets[cf],names[cf])"
   ]
  },
  {
   "cell_type": "code",
   "execution_count": null,
   "id": "86531e50",
   "metadata": {
    "scrolled": false
   },
   "outputs": [],
   "source": [
    "def NumGraph(dtck,ft, nm):\n",
    "    kdnyclass=dtck[dtck['class']=='ckd']\n",
    "    hltyclass=dtck[dtck['class']=='notckd']\n",
    "    ckvs.figure(figsize=(4,4))\n",
    "    ckvs.title(\"Kidney Disease by {}\".format(nm))\n",
    "    ckvs.pie([kdnyclass[ft].mean(),hltyclass[ft].mean()],labels=[\"CKD\",\"NOT CKD\"],\n",
    "                         colors=cksb.color_palette('Set3'), autopct='%1.0f%%',pctdistance=0.5, labeldistance=0.2)\n",
    "    ckvs.show()\n",
    "num_fets=[\"bgr\",\"bu\",\"sc\",\"sod\",\"hemo\"]\n",
    "names=[\"Amount of Glucose\", \"Amount of Urea\", \"Amount of Serum Creatinine\", \"Sodium Level\", \"Amount of Haemoglobin\"]\n",
    "for nf in range(len(num_fets)):\n",
    "    NumGraph(KDS,num_fets[nf], names[nf])"
   ]
  },
  {
   "cell_type": "code",
   "execution_count": null,
   "id": "80771704",
   "metadata": {},
   "outputs": [],
   "source": [
    "def DataEncoding(dtck):\n",
    "    dtcktg=dtck['class']\n",
    "    dtck1=dtck.drop('class',axis=1)\n",
    "    dtckcat=dtck1.dtypes[dtck1.dtypes=='object'].index.tolist()\n",
    "    for k in range(len(dtckcat)):\n",
    "        dtck1[dtckcat[k]]=dtck1[dtckcat[k]].replace(dtck1[dtckcat[k]].unique(),[x for x in range(len(dtck1[dtckcat[k]].unique()))])\n",
    "    dtck2=pandas.concat([dtck1,dtcktg],axis=1)\n",
    "    return dtck2\n",
    "ECKDS=DataEncoding(KDS)\n",
    "ECKDS.head()"
   ]
  },
  {
   "cell_type": "code",
   "execution_count": null,
   "id": "da6473ac",
   "metadata": {},
   "outputs": [],
   "source": [
    "def PCACK(dtck,n,w,h,col,TX):   \n",
    "    arrdtck=numpy.array(dtck.iloc[:,:-1]) \n",
    "    pcdtck = decomposition.PCA(n_components=n) \n",
    "    pcdtck.fit(arrdtck) \n",
    "    pcdtckcm=[\"Comp-{}\".format(i+1) for i in range(len(pcdtck.explained_variance_ratio_.tolist()))]\n",
    "    ckvs.figure(figsize=(w,h))  \n",
    "    ckvs.title(\"Variance(PCA={})\\n{} Normalization Data\\nMaximum Variance Value: {}\".format(n,TX,round(max(pcdtck.explained_variance_ratio_),8)),fontsize=18)\n",
    "    ckvs.bar(pcdtckcm,pcdtck.explained_variance_ratio_.tolist(),width=0.5,color=col) \n",
    "    ckvs.xlabel(\"PCA\",fontsize=14)\n",
    "    ckvs.ylabel(\"Variance\",fontsize=14)\n",
    "    ckvs.grid()\n",
    "    ckvs.show()\n",
    "    return pcdtck.explained_variance_ratio_\n",
    "\n",
    "def DataScale(dtck): \n",
    "    ssnorm = preprocessing.StandardScaler() \n",
    "    ckscl=ssnorm.fit_transform(dtck) \n",
    "    return ckscl"
   ]
  },
  {
   "cell_type": "code",
   "execution_count": null,
   "id": "483cdb4d",
   "metadata": {},
   "outputs": [],
   "source": [
    "pcvl=[]\n",
    "pcvl.append(PCACK(ECKDS.drop('class',axis=1),2,6,3,\"#FF00FF\",\"Before\"))\n",
    "\n",
    "outvl=[]  \n",
    "for pv in pcvl: \n",
    "    for p in pv:\n",
    "        if p>0.6:\n",
    "            outvl.append(True)\n",
    "if len(outvl)==1 and True in outvl:\n",
    "    ScKDSdt=DataScale(ECKDS.drop('class',axis=1))   \n",
    "ScKDS=pandas.DataFrame(ScKDSdt,columns=ECKDS.drop('class',axis=1).columns.tolist())     \n",
    "ScKDS['class']=ECKDS['class']\n",
    "PCACK(ScKDS[::-1],2,6,3,\"#6AFB92\",\"After\")\n",
    "ScKDS.head()"
   ]
  },
  {
   "cell_type": "code",
   "execution_count": null,
   "id": "81b411ae",
   "metadata": {},
   "outputs": [],
   "source": [
    "def CKF1(dtck):\n",
    "    Xdtck=dtck.drop([dtck.columns.tolist()[-1]],axis=1)\n",
    "    Ydtck=dtck[dtck.columns.tolist()[-1]]\n",
    "    nmft=Xdtck.columns.tolist()\n",
    "    ckensm = ensemble.RandomForestClassifier(random_state=0)\n",
    "    ckensm.fit(Xdtck, Ydtck)\n",
    "    impck = ckensm.feature_importances_\n",
    "    ftsckdf=pandas.DataFrame({\"Feature\":nmft,\"Importance\":impck})\n",
    "    ftsckdf1=ftsckdf[ftsckdf['Importance']>0.002]\n",
    "    ckvs.figure(figsize=(7,3))\n",
    "    ckvs.bar(ftsckdf1['Feature'],ftsckdf1['Importance'])\n",
    "    ckvs.title(\"Feature Importance\",fontsize=20,color=\"b\")\n",
    "    ckvs.xlabel(\"Features\",fontsize=17,color=\"b\")\n",
    "    ckvs.ylabel(\"Importance\",fontsize=17,color=\"b\")\n",
    "    ckvs.xticks(rotation=90)\n",
    "    ckvs.grid()\n",
    "    ckvs.show()\n",
    "    display(HTML(ftsckdf1.to_html()))\n",
    "    print(\"Total Features Selecetd Using Ensemble: {}\".format(len(ftsckdf1)))\n",
    "    return ftsckdf1['Feature'].tolist()"
   ]
  },
  {
   "cell_type": "code",
   "execution_count": null,
   "id": "4e618679",
   "metadata": {},
   "outputs": [],
   "source": [
    "def CKF2(dtck):\n",
    "    print(\"--------------------------------------------------------------\")\n",
    "    print(\"Feature Selection for the Data using RFE\")\n",
    "    print(\"--------------------------------------------------------------\")\n",
    "    Xdtck=dtck.drop([dtck.columns.tolist()[-1]],axis=1)\n",
    "    Ydtck=dtck[dtck.columns.tolist()[-1]]\n",
    "    Ydtck=Ydtck.replace(Ydtck.unique(),[x for x in range(len(Ydtck.unique()))]) \n",
    "    M2 = feature_selection.RFE(estimator=linear_model.LogisticRegression(),n_features_to_select = int(len(Xdtck.columns)*0.8), step = 0.7)\n",
    "    M2Trnd=M2.fit(Xdtck,Ydtck)\n",
    "    print(\"--------------------------------------------------------------\")\n",
    "    ftrfe=pandas.DataFrame({\"Feature\":Xdtck.columns,\"Ranking\":M2Trnd.ranking_})\n",
    "    ftrfe2=ftrfe[ftrfe['Ranking']==1]\n",
    "    print(\"Total Features Selecetd Using RFE: {}\".format(len(ftrfe2)))\n",
    "    display(HTML(ftrfe2.to_html()))\n",
    "    return ftrfe2['Feature'].tolist()"
   ]
  },
  {
   "cell_type": "code",
   "execution_count": null,
   "id": "8c68a70c",
   "metadata": {},
   "outputs": [],
   "source": [
    "kdsfets=[]  \n",
    "ensft=CKF1(ScKDS) \n",
    "rfft=CKF2(ScKDS) \n",
    "for x in ensft:   \n",
    "    if x in rfft:   \n",
    "        kdsfets.append(x) "
   ]
  },
  {
   "cell_type": "code",
   "execution_count": null,
   "id": "af3cffa2",
   "metadata": {
    "scrolled": true
   },
   "outputs": [],
   "source": [
    "X=ECKDS.drop('class',axis=1)\n",
    "X=X[kdsfets]\n",
    "y=ECKDS['class']\n",
    "x_train,x_test,y_train,y_test=model_selection.train_test_split(X,y, train_size=0.8, random_state=10)\n",
    "print(y_test.value_counts())"
   ]
  },
  {
   "cell_type": "code",
   "execution_count": null,
   "id": "5a7f2999",
   "metadata": {},
   "outputs": [],
   "source": [
    "X"
   ]
  },
  {
   "cell_type": "code",
   "execution_count": null,
   "id": "4ec96db5",
   "metadata": {
    "scrolled": false
   },
   "outputs": [],
   "source": [
    "CkModelInit=[\n",
    "    tree.DecisionTreeClassifier(min_weight_fraction_leaf=0.4),\n",
    "    ensemble.RandomForestClassifier(min_weight_fraction_leaf=0.4),\n",
    "]\n",
    "ckmdnm=[\n",
    "    \"Decision Tree Classifier\",\n",
    "    \"Random Forest\",\n",
    "]\n",
    "\n",
    "MetCKInit=[[],[],[],[]]\n",
    "print(\"_____________________________________________________________________________\")\n",
    "for i in range(len(CkModelInit)):\n",
    "    print(\"                            {} \".format(ckmdnm[i]))\n",
    "    print(\"_____________________________________________________________________________\")\n",
    "    ScMetLp=[[],[],[],[],[],[]]\n",
    "    for ts in range(10):\n",
    "        CkModelInit[i].fit(x_train,y_train)\n",
    "        kidprd=CkModelInit[i].predict(x_test)\n",
    "        ScMetLp[0].append(round(metrics.accuracy_score(y_test,kidprd)*100,2))\n",
    "        ScMetLp[1].append(round(metrics.precision_score(y_test, kidprd, average='weighted'),2)*100)\n",
    "        ScMetLp[2].append(round(metrics.recall_score(y_test, kidprd, average='weighted'),2)*100)\n",
    "        ScMetLp[3].append(round(metrics.f1_score(y_test, kidprd, average='weighted'),2)*100)\n",
    "        cm=pandas.crosstab(y_test, kidprd, rownames=['True'], colnames=['Predicted'], margins=True)\n",
    "        ScMetLp[4].append(cm.iloc[:2,:2])\n",
    "        ScMetLp[5].append(metrics.classification_report(y_test, kidprd))\n",
    "    opt_idx=ScMetLp[0].index(max(ScMetLp[0]))\n",
    "    MetCKInit[0].append(ScMetLp[0][opt_idx])\n",
    "    MetCKInit[1].append(ScMetLp[1][opt_idx])\n",
    "    MetCKInit[2].append(ScMetLp[2][opt_idx])\n",
    "    MetCKInit[3].append(ScMetLp[3][opt_idx])\n",
    "    print(\"\\nAccuracy: {}%\\n\".format(ScMetLp[0][opt_idx]))\n",
    "    print(\"\\nClassification Report for {} \\n\\n{}\".format(ckmdnm[i],ScMetLp[5][opt_idx]))\n",
    "    print(\"\\nConfusion Matrix for {} \\n\\n{}\\n\".format(ckmdnm[i],ScMetLp[4][opt_idx]))\n",
    "    print(\"_____________________________________________________________________________\")"
   ]
  },
  {
   "cell_type": "code",
   "execution_count": null,
   "id": "9313a088",
   "metadata": {
    "scrolled": false
   },
   "outputs": [],
   "source": [
    "ResInitCKD=pandas.DataFrame({\n",
    "    \"Classifiers\":ckmdnm,\n",
    "    \"Accuracy\":MetCKInit[0],\n",
    "    \"Precision\":MetCKInit[1],\n",
    "    \"Recall\":MetCKInit[2],\n",
    "    \"F1-Score\":MetCKInit[3],\n",
    "    \n",
    "})\n",
    "\n",
    "for i in ResInitCKD.columns.tolist()[1:]:\n",
    "    ResInitCKD=ResInitCKD.sort_values(by=i,ascending=False)\n",
    "    fig = express.bar(ResInitCKD, y=i, x=\"Classifiers\",text=i,color=\"Classifiers\",\n",
    "                 title=\"Comparison of {}\".format(i),height=400,width=600)\n",
    "    fig.update_layout(\n",
    "        font=dict(\n",
    "            family=\"Times New Roman, Bold\",\n",
    "            size=15,\n",
    "            color=\"black\"\n",
    "        )\n",
    "    )\n",
    "    fig.show()"
   ]
  },
  {
   "cell_type": "code",
   "execution_count": 18,
   "id": "de773885",
   "metadata": {},
   "outputs": [
    {
     "ename": "ModuleNotFoundError",
     "evalue": "No module named 'plotly'",
     "output_type": "error",
     "traceback": [
      "\u001b[1;31m---------------------------------------------------------------------------\u001b[0m",
      "\u001b[1;31mModuleNotFoundError\u001b[0m                       Traceback (most recent call last)",
      "\u001b[1;32m~\\AppData\\Local\\Temp/ipykernel_23080/2899598204.py\u001b[0m in \u001b[0;36m<module>\u001b[1;34m\u001b[0m\n\u001b[0;32m      7\u001b[0m \u001b[1;32mimport\u001b[0m \u001b[0mseaborn\u001b[0m \u001b[1;32mas\u001b[0m \u001b[0mcksb\u001b[0m\u001b[1;33m\u001b[0m\u001b[1;33m\u001b[0m\u001b[0m\n\u001b[0;32m      8\u001b[0m \u001b[1;32mfrom\u001b[0m \u001b[0mIPython\u001b[0m\u001b[1;33m.\u001b[0m\u001b[0mdisplay\u001b[0m \u001b[1;32mimport\u001b[0m \u001b[0mdisplay\u001b[0m\u001b[1;33m,\u001b[0m \u001b[0mHTML\u001b[0m\u001b[1;33m\u001b[0m\u001b[1;33m\u001b[0m\u001b[0m\n\u001b[1;32m----> 9\u001b[1;33m \u001b[1;32mfrom\u001b[0m \u001b[0mplotly\u001b[0m \u001b[1;32mimport\u001b[0m \u001b[0mexpress\u001b[0m\u001b[1;33m\u001b[0m\u001b[1;33m\u001b[0m\u001b[0m\n\u001b[0m\u001b[0;32m     10\u001b[0m \u001b[1;32mfrom\u001b[0m \u001b[0msklearn\u001b[0m \u001b[1;32mimport\u001b[0m \u001b[0mpreprocessing\u001b[0m\u001b[1;33m,\u001b[0m \u001b[0mdecomposition\u001b[0m\u001b[1;33m,\u001b[0m \u001b[0mfeature_selection\u001b[0m\u001b[1;33m\u001b[0m\u001b[1;33m\u001b[0m\u001b[0m\n\u001b[0;32m     11\u001b[0m \u001b[1;32mfrom\u001b[0m \u001b[0msklearn\u001b[0m \u001b[1;32mimport\u001b[0m \u001b[0mtree\u001b[0m\u001b[1;33m,\u001b[0m \u001b[0mlinear_model\u001b[0m\u001b[1;33m\u001b[0m\u001b[1;33m\u001b[0m\u001b[0m\n",
      "\u001b[1;31mModuleNotFoundError\u001b[0m: No module named 'plotly'"
     ]
    }
   ],
   "source": [
    "import warnings\n",
    "warnings.filterwarnings(\"ignore\")\n",
    "import numpy \n",
    "import pandas\n",
    "import os\n",
    "from matplotlib import pyplot as ckvs\n",
    "import seaborn as cksb\n",
    "from IPython.display import display, HTML\n",
    "from plotly import express\n",
    "from sklearn import preprocessing, decomposition, feature_selection\n",
    "from sklearn import tree, linear_model\n",
    "from sklearn import neural_network\n",
    "from sklearn import ensemble\n",
    "from sklearn import preprocessing\n",
    "from sklearn import pipeline\n",
    "import sklearn\n",
    "\n",
    "from sklearn import utils  \n",
    "from sklearn import model_selection  \n",
    "from sklearn import metrics  \n",
    "from ucimlrepo import fetch_ucirepo "
   ]
  },
  {
   "cell_type": "code",
   "execution_count": null,
   "id": "18b7678b",
   "metadata": {},
   "outputs": [],
   "source": []
  },
  {
   "cell_type": "code",
   "execution_count": null,
   "id": "d2ddd30a",
   "metadata": {},
   "outputs": [],
   "source": []
  }
 ],
 "metadata": {
  "kernelspec": {
   "display_name": "Python 3 (ipykernel)",
   "language": "python",
   "name": "python3"
  },
  "language_info": {
   "codemirror_mode": {
    "name": "ipython",
    "version": 3
   },
   "file_extension": ".py",
   "mimetype": "text/x-python",
   "name": "python",
   "nbconvert_exporter": "python",
   "pygments_lexer": "ipython3",
   "version": "3.9.7"
  }
 },
 "nbformat": 4,
 "nbformat_minor": 5
}
